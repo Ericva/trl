{
 "cells": [
  {
   "metadata": {},
   "cell_type": "code",
   "source": [
    "import torch\n",
    "torch.mps.empty_cache()"
   ],
   "id": "70405c792793b701",
   "outputs": [],
   "execution_count": null
  },
  {
   "metadata": {
    "collapsed": true
   },
   "cell_type": "code",
   "source": [
    "# train_grpo.py\n",
    "from datasets import load_dataset\n",
    "from trl import GRPOConfig, GRPOTrainer\n",
    "\n",
    "dataset = load_dataset(\"trl-lib/tldr\", split=\"train\")\n",
    "\n",
    "# Define the reward function, which rewards completions that are close to 20 characters\n",
    "def reward_len(completions, **kwargs):\n",
    "    return [-abs(20 - len(completion)) for completion in completions]\n",
    "\n",
    "training_args = GRPOConfig(output_dir=\"Qwen2-0.5B-GRPO\", logging_steps=10)\n",
    "trainer = GRPOTrainer(\n",
    "    model=\"Qwen/Qwen2-0.5B-Instruct\",\n",
    "    reward_funcs=reward_len,\n",
    "    args=training_args,\n",
    "    train_dataset=dataset,\n",
    ")\n",
    "trainer.train()"
   ],
   "id": "initial_id",
   "outputs": [],
   "execution_count": null
  },
  {
   "metadata": {
    "ExecuteTime": {
     "end_time": "2025-03-09T07:52:09.318770Z",
     "start_time": "2025-03-09T07:52:09.297147Z"
    }
   },
   "cell_type": "code",
   "source": [
    "print(\"数据集列名:\", dataset.column_names)\n",
    "print(\"数据集结构:\", dataset.features)"
   ],
   "id": "5f3e283402d543d6",
   "outputs": [
    {
     "name": "stdout",
     "output_type": "stream",
     "text": [
      "数据集列名: ['prompt', 'completion']\n",
      "数据集结构: {'prompt': Value(dtype='string', id=None), 'completion': Value(dtype='string', id=None)}\n"
     ]
    }
   ],
   "execution_count": 11
  },
  {
   "metadata": {
    "ExecuteTime": {
     "end_time": "2025-03-09T07:52:24.868453Z",
     "start_time": "2025-03-09T07:52:24.855775Z"
    }
   },
   "cell_type": "code",
   "source": [
    "print(\"\\n第一个样本:\")\n",
    "print(dataset[0])"
   ],
   "id": "cf24536493749f1b",
   "outputs": [
    {
     "name": "stdout",
     "output_type": "stream",
     "text": [
      "\n",
      "第一个样本:\n",
      "{'prompt': \"SUBREDDIT: r/relationships\\n\\nTITLE: I (f/22) have to figure out if I want to still know these girls or not and would hate to sound insulting\\n\\nPOST: Not sure if this belongs here but it's worth a try. \\n\\nBackstory:\\nWhen I (f/22) went through my first real breakup 2 years ago because he needed space after a year of dating roand  it effected me more than I thought. It was a horrible time in my life due to living with my mother and finally having the chance to cut her out of my life. I can admit because of it was an emotional wreck and this guy was stable and didn't know how to deal with me. We ended by him avoiding for a month or so after going to a festival with my friends. When I think back I wish he just ended. So after he ended it added my depression I suffered but my friends helped me through it and I got rid of everything from him along with cutting contact. \\n\\nNow: Its been almost 3 years now and I've gotten better after counselling and mild anti depressants. My mother has been out of my life since then so there's been alot of progress. Being stronger after learning some lessons there been more insight about that time of my life but when I see him or a picture everything comes back. The emotions and memories bring me back down. \\n\\nHis friends (both girls) are on my facebook because we get along well which is hard to find and I know they'll always have his back. But seeing him in a picture or talking to him at a convention having a conversation is tough. Crying confront of my current boyfriend is something I want to avoid. \\n\\nSo I've been thinking that I have to cut contact with these girls because it's time to move on because it's healthier. It's best to avoid him as well. But will they be insulted? Will they accept it? Is there going to be awkwardness? I'm not sure if it's the right to do and could use some outside opinions.\\n\\nTL;DR:\", 'completion': \" I still have contact with an old ex's friends but can't stand to see or talk to him. His friends are really nice ,so how do I tell them I possibly want to unfriend them on Facebook because of him?\"}\n"
     ]
    }
   ],
   "execution_count": 13
  },
  {
   "metadata": {
    "ExecuteTime": {
     "end_time": "2025-03-09T07:52:47.876084Z",
     "start_time": "2025-03-09T07:52:47.864189Z"
    }
   },
   "cell_type": "code",
   "source": [
    "print('prompt: ', dataset[0]['prompt'])\n",
    "print('completion: ', dataset[0]['completion'])"
   ],
   "id": "a1919256a4d5809b",
   "outputs": [
    {
     "name": "stdout",
     "output_type": "stream",
     "text": [
      "prompt:  SUBREDDIT: r/relationships\n",
      "\n",
      "TITLE: I (f/22) have to figure out if I want to still know these girls or not and would hate to sound insulting\n",
      "\n",
      "POST: Not sure if this belongs here but it's worth a try. \n",
      "\n",
      "Backstory:\n",
      "When I (f/22) went through my first real breakup 2 years ago because he needed space after a year of dating roand  it effected me more than I thought. It was a horrible time in my life due to living with my mother and finally having the chance to cut her out of my life. I can admit because of it was an emotional wreck and this guy was stable and didn't know how to deal with me. We ended by him avoiding for a month or so after going to a festival with my friends. When I think back I wish he just ended. So after he ended it added my depression I suffered but my friends helped me through it and I got rid of everything from him along with cutting contact. \n",
      "\n",
      "Now: Its been almost 3 years now and I've gotten better after counselling and mild anti depressants. My mother has been out of my life since then so there's been alot of progress. Being stronger after learning some lessons there been more insight about that time of my life but when I see him or a picture everything comes back. The emotions and memories bring me back down. \n",
      "\n",
      "His friends (both girls) are on my facebook because we get along well which is hard to find and I know they'll always have his back. But seeing him in a picture or talking to him at a convention having a conversation is tough. Crying confront of my current boyfriend is something I want to avoid. \n",
      "\n",
      "So I've been thinking that I have to cut contact with these girls because it's time to move on because it's healthier. It's best to avoid him as well. But will they be insulted? Will they accept it? Is there going to be awkwardness? I'm not sure if it's the right to do and could use some outside opinions.\n",
      "\n",
      "TL;DR:\n",
      "completion:   I still have contact with an old ex's friends but can't stand to see or talk to him. His friends are really nice ,so how do I tell them I possibly want to unfriend them on Facebook because of him?\n"
     ]
    }
   ],
   "execution_count": 14
  },
  {
   "metadata": {
    "ExecuteTime": {
     "end_time": "2025-03-09T08:05:53.135147Z",
     "start_time": "2025-03-09T08:05:53.076206Z"
    }
   },
   "cell_type": "code",
   "source": "print(dataset[:5])",
   "id": "897e627b94e957ac",
   "outputs": [
    {
     "name": "stdout",
     "output_type": "stream",
     "text": [
      "{'prompt': [\"SUBREDDIT: r/relationships\\n\\nTITLE: I (f/22) have to figure out if I want to still know these girls or not and would hate to sound insulting\\n\\nPOST: Not sure if this belongs here but it's worth a try. \\n\\nBackstory:\\nWhen I (f/22) went through my first real breakup 2 years ago because he needed space after a year of dating roand  it effected me more than I thought. It was a horrible time in my life due to living with my mother and finally having the chance to cut her out of my life. I can admit because of it was an emotional wreck and this guy was stable and didn't know how to deal with me. We ended by him avoiding for a month or so after going to a festival with my friends. When I think back I wish he just ended. So after he ended it added my depression I suffered but my friends helped me through it and I got rid of everything from him along with cutting contact. \\n\\nNow: Its been almost 3 years now and I've gotten better after counselling and mild anti depressants. My mother has been out of my life since then so there's been alot of progress. Being stronger after learning some lessons there been more insight about that time of my life but when I see him or a picture everything comes back. The emotions and memories bring me back down. \\n\\nHis friends (both girls) are on my facebook because we get along well which is hard to find and I know they'll always have his back. But seeing him in a picture or talking to him at a convention having a conversation is tough. Crying confront of my current boyfriend is something I want to avoid. \\n\\nSo I've been thinking that I have to cut contact with these girls because it's time to move on because it's healthier. It's best to avoid him as well. But will they be insulted? Will they accept it? Is there going to be awkwardness? I'm not sure if it's the right to do and could use some outside opinions.\\n\\nTL;DR:\", 'SUBREDDIT: r/loseit\\n\\nTITLE: SV & NSV! Keeping on keeping on.\\n\\nPOST: 30F, 5\\'6\". SW: 236 GW: 150 CW: 219\\n\\nI weigh myself weekly and measure myself monthly. I\\'d hit a plateau the last four weeks or so where I was stuck at 222. Felt like kind of a bummer, but knew it\\'s because I haven\\'t been as strict as I should with my diet, and the last week and a half have been crazy with life things, so I haven\\'t been exercising as frequently as I\\'ve gotten used to. When I weighed myself as normal on Monday, I was kind of disappointed to see the scale not budging and figured it was time to buckle down again and really watch my diet. Today was my measure-in day, and I\\'ve felt cruddy in general since Monday because I caught some chest congestion/cold bug over the weekend. I get on the scale...it says 219. Whaaaaat? I take my measurements, which are down slightly from last month, and with an total-body loss of 8 inches from my starting point on 12/23/14! Some of my clothes have been feeling a bit looser as of late and now I know it\\'s just not in my head. I\\'m now the lightest and smallest I\\'ve been since right around high school!\\n\\nTL;DR:', 'SUBREDDIT: r/relationships\\n\\nTITLE: Me [19F] with my friend [19M] 10 months, Insecurities - Show or Tell?\\n\\nPOST: What are your stories about insecurities you\\'ve had in past relationships? How have you dealt with them, particularly the ones that you can\\'t hide?\\n\\nI\\'m not currently in a relationship, but recently I\\'ve realized that there is someone who likes me, and I\\'m interested in them, too. Frankly, the only reason I\\'m not asking them out is because I know that I have some insecurities that need to be worked through - particularly in the realm of body image. While I\\'m confident in the rest of my body, I\\'ve had terrible, awful acne both on my arms and breasts since I was very young. It\\'s a special type with no complete cure, but doctors suggested that I keep my skin oiled until it goes away (dryness irritates it). Because of this it\\'s not so much present anymore as large clusters of scars are.\\n\\nWould I warn someone about this upfront before anything sexual? Would I just let it surprise them when the clothes come off? Do I tell them \"Let\\'s keep on my shirt for now\" while we do our business? \\n\\nHave you had experiences with anything similar? I want to hear how they went!\\n\\nTL;DR:', \"SUBREDDIT: r/personalfinance\\n\\nTITLE: Prioritize student debt or saving for down payment?\\n\\nPOST: I have $25k in student debt. One private loan at 9.5% (highest priority obviously) and nine others federal between 3.4% and 6.8%. Minimum payment per month total is $301.16. Over the next 9 months, I will pay off $11k of these, which will get rid of everything above 5% interest and will drop the total minimum payment to $150. \\n\\nAt the end of the 9 months, our savings will be around $35k. At that time my husband will need to purchase a car so some of that will be his down payment. So more realistically $25-30k. \\n\\nSometime in the future, between a year to two years from now, my husband and I may be moving. Typical single family homes in this area go for around $300k. \\n\\nAt the end of the 9 months, should I continue to focus on paying down student debt (which will be a balance of $14k by then) or growing our savings/down payment? I have $5200/mo to somehow split between debt and down payment and I'm not sure how best to allocate it.\\n\\nTL;DR:\", 'SUBREDDIT: r/relationships\\n\\nTITLE: My[25m] girlfriend [24f] is only nice and pleasant when I\\'m aloof and distant. (9 months)\\n\\nPOST: Throwaway\\n\\nI noticed the more I\\'m cold and distant towards my girlfriend, the more pleasant she becomes. She\\'ll come over and clean my apartment, do laundry, dishes and cook for me, even as far as to offer oral favors while I\\'m drinking a beer! \\n\\nShe seems completely happy and content during this time, which makes me happy and I naturally want to do things back for her. As soon as I start doing her favors, she picks fights and complains nonstop. Latest issue was I offered to take her and her mom to dinner. She kept giving me shit about how I\\'m going to be spending too much time with my brother (who\\'s visiting for a week soon), which she was totally fine with when I was being distant with her. She\\'ll call me a bitch in a joking way, and just take the piss out of me whenever I\\'m kind or go out of my way to apologize. \\n\\nThis naturally makes me feel cold and indifferent toward her. Once she senses that, she\\'s all about making me the happiest boyfriend and apologizes for all the shit she was giving me the week previously. It\\'s a vicious cycle but I\\'m not sure what to do here. I\\'ve brought this up with her and she recognizes it and has no solution. She just \"feels differently towards me sometimes\" and can\\'t explain it.\\n\\n**So what do I do here? Do I keep up the aloof, distant attitude to keep her interested or suffer her negging in kindness, my default setting.\\n\\nTL;DR:'], 'completion': [\" I still have contact with an old ex's friends but can't stand to see or talk to him. His friends are really nice ,so how do I tell them I possibly want to unfriend them on Facebook because of him?\", \" Progress is still happening, even when you think it might not be! Don't get discouraged, even if your journey seems to be going slowly. Don't give up, warriors.\", \" My skin is scarred badly; what could I do/say about it that would gross my future partner out the least? What's your experience with body image issues?\", ' $14k in student debt (all <5%) and need to save more for down payment on a ~$300k house. How to allocate $5200/mo between the two?', \" GF is a meanie-bo-beanie when I'm nice, and an absolute doll when I'm uninterested. Sex is bomb and she's the hottest I've ever dated. What do?\"]}\n"
     ]
    }
   ],
   "execution_count": 15
  },
  {
   "metadata": {
    "ExecuteTime": {
     "end_time": "2025-03-09T08:09:20.865786Z",
     "start_time": "2025-03-09T08:09:16.805055Z"
    }
   },
   "cell_type": "code",
   "source": [
    "from transformers import AutoTokenizer, AutoModelForCausalLM\n",
    "tokenizer = AutoTokenizer.from_pretrained(\"Qwen/Qwen2-0.5B-Instruct\")\n",
    "model = AutoModelForCausalLM.from_pretrained(\"Qwen/Qwen2-0.5B-Instruct\")"
   ],
   "id": "d79f61493be7aa54",
   "outputs": [],
   "execution_count": 17
  },
  {
   "metadata": {
    "ExecuteTime": {
     "end_time": "2025-03-09T08:14:44.070901Z",
     "start_time": "2025-03-09T08:14:36.351028Z"
    }
   },
   "cell_type": "code",
   "source": [
    "input_text = '请介绍一下你自己，并且告诉我你可以做什么'\n",
    "input_ids = tokenizer(input_text, return_tensors='pt')['input_ids']\n",
    "output = model.generate(input_ids, max_length=100, top_p=0.95)\n",
    "output = tokenizer.batch_decode(list(output))"
   ],
   "id": "bb0cb09f4436320e",
   "outputs": [],
   "execution_count": 23
  },
  {
   "metadata": {
    "ExecuteTime": {
     "end_time": "2025-03-09T08:14:58.198455Z",
     "start_time": "2025-03-09T08:14:58.184668Z"
    }
   },
   "cell_type": "code",
   "source": "output",
   "id": "a7c7a2c6bb619ccc",
   "outputs": [
    {
     "data": {
      "text/plain": [
       "['请介绍一下你自己，并且告诉我你可以做什么？\\n\\n作为人工智能助手，我没有任何个人经验、情感或能力。我被设计为帮助用户解决问题和提供信息，而不是有实际的活动或行为。如果您有任何问题需要解答，请随时提问。\\n\\n你是否可以理解语言？<|im_end|>']"
      ]
     },
     "execution_count": 24,
     "metadata": {},
     "output_type": "execute_result"
    }
   ],
   "execution_count": 24
  },
  {
   "metadata": {},
   "cell_type": "code",
   "outputs": [],
   "execution_count": null,
   "source": "",
   "id": "992a9f5dcf5d0dd1"
  }
 ],
 "metadata": {
  "kernelspec": {
   "display_name": "Python 3",
   "language": "python",
   "name": "python3"
  },
  "language_info": {
   "codemirror_mode": {
    "name": "ipython",
    "version": 2
   },
   "file_extension": ".py",
   "mimetype": "text/x-python",
   "name": "python",
   "nbconvert_exporter": "python",
   "pygments_lexer": "ipython2",
   "version": "2.7.6"
  }
 },
 "nbformat": 4,
 "nbformat_minor": 5
}
